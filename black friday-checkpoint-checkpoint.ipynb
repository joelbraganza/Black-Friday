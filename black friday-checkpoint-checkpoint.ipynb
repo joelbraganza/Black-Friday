{
 "cells": [
  {
   "cell_type": "markdown",
   "metadata": {},
   "source": [
    "# Black Friday Purchase\n",
    "\n",
    "\n"
   ]
  },
  {
   "cell_type": "markdown",
   "metadata": {},
   "source": [
    "A retail company “ABC Private Limited” wants to understand the customer purchase behaviour (specifically, purchase amount) against various products of different categories. \n",
    "They have shared purchase summary of various customers for selected high volume products from last month."
   ]
  },
  {
   "cell_type": "markdown",
   "metadata": {},
   "source": [
    "Let's import the libraries"
   ]
  },
  {
   "cell_type": "code",
   "execution_count": 3,
   "metadata": {},
   "outputs": [],
   "source": [
    "import pandas as pd\n",
    "import numpy as np\n",
    "import os\n",
    "import seaborn as sns\n",
    "from matplotlib import pyplot as plt\n",
    "from sklearn.utils import shuffle"
   ]
  },
  {
   "cell_type": "code",
   "execution_count": 89,
   "metadata": {},
   "outputs": [
    {
     "name": "stdout",
     "output_type": "stream",
     "text": [
      "(550068, 12)\n",
      "(55007, 12)\n"
     ]
    },
    {
     "data": {
      "text/html": [
       "<div>\n",
       "<style scoped>\n",
       "    .dataframe tbody tr th:only-of-type {\n",
       "        vertical-align: middle;\n",
       "    }\n",
       "\n",
       "    .dataframe tbody tr th {\n",
       "        vertical-align: top;\n",
       "    }\n",
       "\n",
       "    .dataframe thead th {\n",
       "        text-align: right;\n",
       "    }\n",
       "</style>\n",
       "<table border=\"1\" class=\"dataframe\">\n",
       "  <thead>\n",
       "    <tr style=\"text-align: right;\">\n",
       "      <th></th>\n",
       "      <th>User_ID</th>\n",
       "      <th>Product_ID</th>\n",
       "      <th>Gender</th>\n",
       "      <th>Age</th>\n",
       "      <th>Occupation</th>\n",
       "      <th>City_Category</th>\n",
       "      <th>Stay_In_Current_City_Years</th>\n",
       "      <th>Marital_Status</th>\n",
       "      <th>Product_Category_1</th>\n",
       "      <th>Product_Category_2</th>\n",
       "      <th>Product_Category_3</th>\n",
       "      <th>Purchase</th>\n",
       "    </tr>\n",
       "  </thead>\n",
       "  <tbody>\n",
       "    <tr>\n",
       "      <th>386231</th>\n",
       "      <td>1005449</td>\n",
       "      <td>P00110742</td>\n",
       "      <td>M</td>\n",
       "      <td>18-25</td>\n",
       "      <td>12</td>\n",
       "      <td>C</td>\n",
       "      <td>1</td>\n",
       "      <td>0</td>\n",
       "      <td>1</td>\n",
       "      <td>2.0</td>\n",
       "      <td>8.0</td>\n",
       "      <td>19455</td>\n",
       "    </tr>\n",
       "    <tr>\n",
       "      <th>521258</th>\n",
       "      <td>1002198</td>\n",
       "      <td>P00183242</td>\n",
       "      <td>F</td>\n",
       "      <td>36-45</td>\n",
       "      <td>9</td>\n",
       "      <td>C</td>\n",
       "      <td>1</td>\n",
       "      <td>0</td>\n",
       "      <td>5</td>\n",
       "      <td>15.0</td>\n",
       "      <td>NaN</td>\n",
       "      <td>7030</td>\n",
       "    </tr>\n",
       "    <tr>\n",
       "      <th>488614</th>\n",
       "      <td>1003339</td>\n",
       "      <td>P00116642</td>\n",
       "      <td>M</td>\n",
       "      <td>26-35</td>\n",
       "      <td>17</td>\n",
       "      <td>C</td>\n",
       "      <td>0</td>\n",
       "      <td>0</td>\n",
       "      <td>5</td>\n",
       "      <td>NaN</td>\n",
       "      <td>NaN</td>\n",
       "      <td>8604</td>\n",
       "    </tr>\n",
       "    <tr>\n",
       "      <th>6900</th>\n",
       "      <td>1001101</td>\n",
       "      <td>P0095542</td>\n",
       "      <td>M</td>\n",
       "      <td>36-45</td>\n",
       "      <td>1</td>\n",
       "      <td>A</td>\n",
       "      <td>1</td>\n",
       "      <td>0</td>\n",
       "      <td>2</td>\n",
       "      <td>4.0</td>\n",
       "      <td>9.0</td>\n",
       "      <td>10046</td>\n",
       "    </tr>\n",
       "    <tr>\n",
       "      <th>190363</th>\n",
       "      <td>1005414</td>\n",
       "      <td>P00112142</td>\n",
       "      <td>M</td>\n",
       "      <td>0-17</td>\n",
       "      <td>10</td>\n",
       "      <td>C</td>\n",
       "      <td>2</td>\n",
       "      <td>0</td>\n",
       "      <td>1</td>\n",
       "      <td>2.0</td>\n",
       "      <td>14.0</td>\n",
       "      <td>8288</td>\n",
       "    </tr>\n",
       "    <tr>\n",
       "      <th>98760</th>\n",
       "      <td>1003314</td>\n",
       "      <td>P00221342</td>\n",
       "      <td>M</td>\n",
       "      <td>26-35</td>\n",
       "      <td>7</td>\n",
       "      <td>C</td>\n",
       "      <td>2</td>\n",
       "      <td>0</td>\n",
       "      <td>1</td>\n",
       "      <td>2.0</td>\n",
       "      <td>5.0</td>\n",
       "      <td>11499</td>\n",
       "    </tr>\n",
       "    <tr>\n",
       "      <th>65137</th>\n",
       "      <td>1003992</td>\n",
       "      <td>P00146742</td>\n",
       "      <td>M</td>\n",
       "      <td>26-35</td>\n",
       "      <td>4</td>\n",
       "      <td>B</td>\n",
       "      <td>1</td>\n",
       "      <td>0</td>\n",
       "      <td>1</td>\n",
       "      <td>13.0</td>\n",
       "      <td>14.0</td>\n",
       "      <td>15318</td>\n",
       "    </tr>\n",
       "  </tbody>\n",
       "</table>\n",
       "</div>"
      ],
      "text/plain": [
       "        User_ID Product_ID Gender    Age  Occupation City_Category  \\\n",
       "386231  1005449  P00110742      M  18-25          12             C   \n",
       "521258  1002198  P00183242      F  36-45           9             C   \n",
       "488614  1003339  P00116642      M  26-35          17             C   \n",
       "6900    1001101   P0095542      M  36-45           1             A   \n",
       "190363  1005414  P00112142      M   0-17          10             C   \n",
       "98760   1003314  P00221342      M  26-35           7             C   \n",
       "65137   1003992  P00146742      M  26-35           4             B   \n",
       "\n",
       "       Stay_In_Current_City_Years  Marital_Status  Product_Category_1  \\\n",
       "386231                          1               0                   1   \n",
       "521258                          1               0                   5   \n",
       "488614                          0               0                   5   \n",
       "6900                            1               0                   2   \n",
       "190363                          2               0                   1   \n",
       "98760                           2               0                   1   \n",
       "65137                           1               0                   1   \n",
       "\n",
       "        Product_Category_2  Product_Category_3  Purchase  \n",
       "386231                 2.0                 8.0     19455  \n",
       "521258                15.0                 NaN      7030  \n",
       "488614                 NaN                 NaN      8604  \n",
       "6900                   4.0                 9.0     10046  \n",
       "190363                 2.0                14.0      8288  \n",
       "98760                  2.0                 5.0     11499  \n",
       "65137                 13.0                14.0     15318  "
      ]
     },
     "execution_count": 89,
     "metadata": {},
     "output_type": "execute_result"
    }
   ],
   "source": [
    "df = pd.read_csv(r'D:\\joel\\UDEMY -\\datasets and codes\\Notebooks\\.ipynb_checkpoints\\black friday\\train.csv')\n",
    "print (df.shape) # nearly 500,000+ observations and 11 categorical variables and 1 continuous target variable\n",
    "df = df.sample(frac = 0.1) # reducing to 10% i.e, 50,000+ observations for limited system resources\n",
    "print (df.shape) #(110014, 12)\n",
    "df.sample(7)"
   ]
  },
  {
   "cell_type": "markdown",
   "metadata": {},
   "source": [
    "Looking at the data, we can see most of the variables except maybe 'Stay_In_Current_City_Years' are categorical and our target variable purchase is continuous.\n",
    "Let's look at the distribution of these variables and try to understand if we should reframe this problem as classfication or regression."
   ]
  },
  {
   "cell_type": "code",
   "execution_count": 90,
   "metadata": {},
   "outputs": [
    {
     "name": "stdout",
     "output_type": "stream",
     "text": [
      "User_ID                        0.000000\n",
      "Product_ID                     0.000000\n",
      "Gender                         0.000000\n",
      "Age                            0.000000\n",
      "Occupation                     0.000000\n",
      "City_Category                  0.000000\n",
      "Stay_In_Current_City_Years     0.000000\n",
      "Marital_Status                 0.000000\n",
      "Product_Category_1             0.000000\n",
      "Product_Category_2            31.405094\n",
      "Product_Category_3            69.627502\n",
      "Purchase                       0.000000\n",
      "dtype: float64\n"
     ]
    }
   ],
   "source": [
    "print ((df.isnull().sum()/df.shape[0])*100)"
   ]
  },
  {
   "cell_type": "markdown",
   "metadata": {},
   "source": [
    "We can see 'Product_Category_2' has  31.64% and 'Product_Category_3' has 69.43% missing data, both are above the threshold of 30% tolerance for missing data, so we need to remove these variables."
   ]
  },
  {
   "cell_type": "code",
   "execution_count": 91,
   "metadata": {},
   "outputs": [
    {
     "data": {
      "text/plain": [
       "(55007, 10)"
      ]
     },
     "execution_count": 91,
     "metadata": {},
     "output_type": "execute_result"
    }
   ],
   "source": [
    "df.drop(labels=['Product_Category_2','Product_Category_3'],axis=1,inplace=True)\n",
    "df.shape"
   ]
  },
  {
   "cell_type": "markdown",
   "metadata": {},
   "source": [
    "Let's look at how many unique ID's are present for 'User_ID' & 'Product_ID' variables, or if they represent just ID numbers for every observation"
   ]
  },
  {
   "cell_type": "code",
   "execution_count": 92,
   "metadata": {},
   "outputs": [
    {
     "name": "stdout",
     "output_type": "stream",
     "text": [
      "5602\n",
      "3128\n"
     ]
    }
   ],
   "source": [
    "print (len(df['User_ID'].unique()))\n",
    "print (len(df['Product_ID'].unique()))"
   ]
  },
  {
   "cell_type": "markdown",
   "metadata": {},
   "source": [
    "There are many unique IDs showing they are not simply observations numbers. "
   ]
  },
  {
   "cell_type": "markdown",
   "metadata": {},
   "source": [
    "Let's create numeric-labels for these categoric columns and encode them within  a dictionary for reference"
   ]
  },
  {
   "cell_type": "code",
   "execution_count": 93,
   "metadata": {},
   "outputs": [
    {
     "data": {
      "text/html": [
       "<div>\n",
       "<style scoped>\n",
       "    .dataframe tbody tr th:only-of-type {\n",
       "        vertical-align: middle;\n",
       "    }\n",
       "\n",
       "    .dataframe tbody tr th {\n",
       "        vertical-align: top;\n",
       "    }\n",
       "\n",
       "    .dataframe thead th {\n",
       "        text-align: right;\n",
       "    }\n",
       "</style>\n",
       "<table border=\"1\" class=\"dataframe\">\n",
       "  <thead>\n",
       "    <tr style=\"text-align: right;\">\n",
       "      <th></th>\n",
       "      <th>User_ID</th>\n",
       "      <th>Product_ID</th>\n",
       "      <th>Gender</th>\n",
       "      <th>Age</th>\n",
       "      <th>Occupation</th>\n",
       "      <th>City_Category</th>\n",
       "      <th>Stay_In_Current_City_Years</th>\n",
       "      <th>Marital_Status</th>\n",
       "      <th>Product_Category_1</th>\n",
       "      <th>Purchase</th>\n",
       "    </tr>\n",
       "  </thead>\n",
       "  <tbody>\n",
       "    <tr>\n",
       "      <th>57377</th>\n",
       "      <td>2650</td>\n",
       "      <td>2022</td>\n",
       "      <td>1</td>\n",
       "      <td>3</td>\n",
       "      <td>12</td>\n",
       "      <td>1</td>\n",
       "      <td>3</td>\n",
       "      <td>0</td>\n",
       "      <td>0</td>\n",
       "      <td>3837</td>\n",
       "    </tr>\n",
       "    <tr>\n",
       "      <th>4997</th>\n",
       "      <td>749</td>\n",
       "      <td>99</td>\n",
       "      <td>1</td>\n",
       "      <td>1</td>\n",
       "      <td>4</td>\n",
       "      <td>1</td>\n",
       "      <td>2</td>\n",
       "      <td>0</td>\n",
       "      <td>0</td>\n",
       "      <td>15247</td>\n",
       "    </tr>\n",
       "    <tr>\n",
       "      <th>281297</th>\n",
       "      <td>1244</td>\n",
       "      <td>992</td>\n",
       "      <td>1</td>\n",
       "      <td>2</td>\n",
       "      <td>7</td>\n",
       "      <td>0</td>\n",
       "      <td>2</td>\n",
       "      <td>0</td>\n",
       "      <td>10</td>\n",
       "      <td>1714</td>\n",
       "    </tr>\n",
       "    <tr>\n",
       "      <th>530165</th>\n",
       "      <td>3395</td>\n",
       "      <td>1909</td>\n",
       "      <td>1</td>\n",
       "      <td>3</td>\n",
       "      <td>7</td>\n",
       "      <td>1</td>\n",
       "      <td>3</td>\n",
       "      <td>0</td>\n",
       "      <td>4</td>\n",
       "      <td>5472</td>\n",
       "    </tr>\n",
       "    <tr>\n",
       "      <th>342727</th>\n",
       "      <td>4377</td>\n",
       "      <td>2405</td>\n",
       "      <td>1</td>\n",
       "      <td>2</td>\n",
       "      <td>14</td>\n",
       "      <td>1</td>\n",
       "      <td>2</td>\n",
       "      <td>1</td>\n",
       "      <td>0</td>\n",
       "      <td>11611</td>\n",
       "    </tr>\n",
       "    <tr>\n",
       "      <th>274084</th>\n",
       "      <td>206</td>\n",
       "      <td>390</td>\n",
       "      <td>0</td>\n",
       "      <td>2</td>\n",
       "      <td>0</td>\n",
       "      <td>1</td>\n",
       "      <td>2</td>\n",
       "      <td>1</td>\n",
       "      <td>7</td>\n",
       "      <td>8037</td>\n",
       "    </tr>\n",
       "    <tr>\n",
       "      <th>423424</th>\n",
       "      <td>4777</td>\n",
       "      <td>1912</td>\n",
       "      <td>1</td>\n",
       "      <td>4</td>\n",
       "      <td>6</td>\n",
       "      <td>1</td>\n",
       "      <td>1</td>\n",
       "      <td>1</td>\n",
       "      <td>4</td>\n",
       "      <td>7113</td>\n",
       "    </tr>\n",
       "  </tbody>\n",
       "</table>\n",
       "</div>"
      ],
      "text/plain": [
       "        User_ID  Product_ID  Gender  Age  Occupation  City_Category  \\\n",
       "57377      2650        2022       1    3          12              1   \n",
       "4997        749          99       1    1           4              1   \n",
       "281297     1244         992       1    2           7              0   \n",
       "530165     3395        1909       1    3           7              1   \n",
       "342727     4377        2405       1    2          14              1   \n",
       "274084      206         390       0    2           0              1   \n",
       "423424     4777        1912       1    4           6              1   \n",
       "\n",
       "        Stay_In_Current_City_Years  Marital_Status  Product_Category_1  \\\n",
       "57377                            3               0                   0   \n",
       "4997                             2               0                   0   \n",
       "281297                           2               0                  10   \n",
       "530165                           3               0                   4   \n",
       "342727                           2               1                   0   \n",
       "274084                           2               1                   7   \n",
       "423424                           1               1                   4   \n",
       "\n",
       "        Purchase  \n",
       "57377       3837  \n",
       "4997       15247  \n",
       "281297      1714  \n",
       "530165      5472  \n",
       "342727     11611  \n",
       "274084      8037  \n",
       "423424      7113  "
      ]
     },
     "execution_count": 93,
     "metadata": {},
     "output_type": "execute_result"
    }
   ],
   "source": [
    "encodings = {}\n",
    "for c in df.columns[:-1]:\n",
    "    old_values = list(df[c].unique())\n",
    "    df[c] = pd.Categorical(df[c])\n",
    "    df[c] = df[c].cat.codes\n",
    "    new_values = list(df[c].unique())\n",
    "    df[c] = df[c].astype('object')\n",
    "    encodings[c] = {old_values[i]:new_values[i] for i in range(len(old_values))}\n",
    "    \n",
    "df = df.replace([-1],np.NaN)\n",
    "df.head(7)"
   ]
  },
  {
   "cell_type": "markdown",
   "metadata": {},
   "source": [
    "Let's visualize the target 'Purchase' w.r.t the independent categorical variables to see if they show some relationship to each other.\n",
    "Because  'User_ID' & 'Product_ID' have too many unique values, we won't visualize them"
   ]
  },
  {
   "cell_type": "markdown",
   "metadata": {},
   "source": [
    "### Data Visualization"
   ]
  },
  {
   "cell_type": "code",
   "execution_count": 13,
   "metadata": {},
   "outputs": [
    {
     "data": {
      "image/png": "[encoded data removed]",
      "text/plain": [
       "<Figure size 432x288 with 1 Axes>"
      ]
     },
     "metadata": {
      "needs_background": "light"
     },
     "output_type": "display_data"
    },
    {
     "data": {
      "image/png": "[encoded data removed]",
      "text/plain": [
       "<Figure size 432x288 with 1 Axes>"
      ]
     },
     "metadata": {
      "needs_background": "light"
     },
     "output_type": "display_data"
    },
    {
     "data": {
      "image/png": "[encoded data removed]",
      "text/plain": [
       "<Figure size 432x288 with 1 Axes>"
      ]
     },
     "metadata": {
      "needs_background": "light"
     },
     "output_type": "display_data"
    },
    {
     "data": {
      "image/png": "[encoded data removed]",
      "text/plain": [
       "<Figure size 432x288 with 1 Axes>"
      ]
     },
     "metadata": {
      "needs_background": "light"
     },
     "output_type": "display_data"
    },
    {
     "data": {
      "image/png": "[encoded data removed]",
      "text/plain": [
       "<Figure size 432x288 with 1 Axes>"
      ]
     },
     "metadata": {
      "needs_background": "light"
     },
     "output_type": "display_data"
    },
    {
     "data": {
      "image/png": "[encoded data removed]",
      "text/plain": [
       "<Figure size 432x288 with 1 Axes>"
      ]
     },
     "metadata": {
      "needs_background": "light"
     },
     "output_type": "display_data"
    },
    {
     "data": {
      "image/png": "[encoded data removed]",
      "text/plain": [
       "<Figure size 432x288 with 1 Axes>"
      ]
     },
     "metadata": {
      "needs_background": "light"
     },
     "output_type": "display_data"
    }
   ],
   "source": [
    "for x in ['Gender','Age','Occupation','City_Category','Stay_In_Current_City_Years','Marital_Status','Product_Category_1']:\n",
    "    ax = sns.barplot(x, y=\"Purchase\", data=df,estimator=np.mean)\n",
    "    plt.show()"
   ]
  },
  {
   "cell_type": "markdown",
   "metadata": {},
   "source": [
    "'Product_category_1' shows significant different in it's average classes.\n",
    "'City_category','Occupation' & 'Age' show very little difference, while the rest of them don't show any."
   ]
  },
  {
   "cell_type": "markdown",
   "metadata": {},
   "source": [
    "Let's now actually perform some relationship tests of these categorical variables w.r.t the target."
   ]
  },
  {
   "cell_type": "markdown",
   "metadata": {},
   "source": [
    "### ANOVA test"
   ]
  },
  {
   "cell_type": "code",
   "execution_count": 74,
   "metadata": {},
   "outputs": [
    {
     "name": "stdout",
     "output_type": "stream",
     "text": [
      "related:  ['User_ID', 'Product_ID', 'Gender', 'Age', 'Occupation', 'City_Category', 'Stay_In_Current_City_Years', 'Marital_Status', 'Product_Category_1']\n",
      "unrelated:  []\n"
     ]
    }
   ],
   "source": [
    "from scipy import stats\n",
    "\n",
    "ANOVA_related= []\n",
    "ANOVA_unrelated= []\n",
    "\n",
    "for col in df.columns[:-1]:\n",
    "    fStat, pVal = stats.f_oneway(df[col], df['Purchase'])\n",
    "    #print(col,' P-value: ',pVal,' f-statistic: ',fStat)\n",
    "    if pVal<0.05:\n",
    "        ANOVA_related.append(col)\n",
    "    else:\n",
    "        ANOVA_unrelated.append(col)\n",
    "        \n",
    "print('related: ', ANOVA_related)\n",
    "print('unrelated: ', ANOVA_unrelated)"
   ]
  },
  {
   "cell_type": "markdown",
   "metadata": {},
   "source": [
    "ANOVA test says all variables are related to the purchase"
   ]
  },
  {
   "cell_type": "markdown",
   "metadata": {},
   "source": [
    "### Extra Trees Regressor"
   ]
  },
  {
   "cell_type": "code",
   "execution_count": 75,
   "metadata": {},
   "outputs": [
    {
     "name": "stdout",
     "output_type": "stream",
     "text": [
      "[0.07013272 0.14167738 0.01105208 0.0364601  0.05140513 0.01303338\n",
      " 0.03977026 0.01314864 0.62332031]\n"
     ]
    },
    {
     "data": {
      "image/png": "[encoded data removed]",
      "text/plain": [
       "<Figure size 432x288 with 1 Axes>"
      ]
     },
     "metadata": {
      "needs_background": "light"
     },
     "output_type": "display_data"
    }
   ],
   "source": [
    "from matplotlib import pyplot as plt\n",
    "import seaborn as sns\n",
    "from sklearn.ensemble import ExtraTreesRegressor\n",
    "X = df.iloc[:,:-1]\n",
    "y = df['Purchase']\n",
    "importances = ExtraTreesRegressor().fit(X,y)\n",
    "print (importances.feature_importances_)\n",
    "\n",
    "# Let's look at the scores visually\n",
    "\n",
    "values = pd.Series(importances.feature_importances_, index = df.columns[:-1])\n",
    "values.nlargest(df.shape[1]-1).plot(kind='bar')\n",
    "plt.figsize=(10,15)\n",
    "plt.show()"
   ]
  },
  {
   "cell_type": "markdown",
   "metadata": {},
   "source": [
    "'Marital_Status','Gender','City_Category' show the very least, 'Age' & 'Stay_In_Current_City_Years' show very little and same importances\n",
    "with others a little more with 'Product_Category_1' showing highest importance."
   ]
  },
  {
   "cell_type": "markdown",
   "metadata": {},
   "source": [
    "### Lasso Regularization - L1 feature importance"
   ]
  },
  {
   "cell_type": "code",
   "execution_count": 76,
   "metadata": {},
   "outputs": [
    {
     "name": "stdout",
     "output_type": "stream",
     "text": [
      "[ True  True  True  True  True  True  True  True  True]\n",
      "important:  ['User_ID', 'Product_ID', 'Gender', 'Age', 'Occupation', 'City_Category', 'Stay_In_Current_City_Years', 'Marital_Status', 'Product_Category_1']\n",
      "unimportant:  []\n"
     ]
    }
   ],
   "source": [
    "from sklearn.linear_model import Lasso, LinearRegression \n",
    "from sklearn.feature_selection import SelectFromModel\n",
    "\n",
    "\n",
    "sel_ = SelectFromModel(Lasso(alpha=0.3))\n",
    "\n",
    "sel_.fit(X,y)\n",
    "#sel_.fit(df[numeric], df['Class'])\n",
    "\n",
    "# Visualising features that were kept by the lasso regularisation\n",
    "print (sel_.get_support())\n",
    "\n",
    "#  So True is for the features that lasso thought is important (non-zero features) \n",
    "# while False is for the features whose weights were shrinked to zero and are not important according to Lasso.\n",
    "\n",
    "\n",
    "LR_important = list(X.columns[(sel_.get_support())]) # gives the remaining features\n",
    "LR_unimportant = [i for i in df.columns[:-1] if i not in LR_important]\n",
    "print ('important: ',LR_important)\n",
    "print ('unimportant: ',LR_unimportant)"
   ]
  },
  {
   "cell_type": "markdown",
   "metadata": {},
   "source": [
    "I can't run the Ridge Regression & Random Forest feature importance tests on my computer because of it's limited resources.\n",
    "So I will conclude my relationship analysis based on just these 2 tests. That is all of these independent variables are important to go ahead with modelling for predicting the purchase."
   ]
  },
  {
   "cell_type": "markdown",
   "metadata": {},
   "source": [
    "For that, I need to look at the distribution of the 'Purchase' variable."
   ]
  },
  {
   "cell_type": "code",
   "execution_count": 79,
   "metadata": {},
   "outputs": [
    {
     "data": {
      "image/png": "[encoded data removed]",
      "text/plain": [
       "<Figure size 432x288 with 1 Axes>"
      ]
     },
     "metadata": {
      "needs_background": "light"
     },
     "output_type": "display_data"
    },
    {
     "name": "stdout",
     "output_type": "stream",
     "text": [
      "mean:  9277.426745686913\n",
      "median:  8052.0\n"
     ]
    }
   ],
   "source": [
    "sns.distplot(df['Purchase'],norm_hist=True,color='blue',kde_kws={'label':'KDE'}) # histogram with the kernel-distribution line.\n",
    "plt.axvline(df['Purchase'].mean(), color = 'r', linestyle = 'dashed', linewidth = 2) # plotting mean line\n",
    "plt.axvline(df['Purchase'].median(),color='b',linewidth=2) # plotting median line\n",
    "plt.show()\n",
    "print ('mean: ',df['Purchase'].mean())\n",
    "print ('median: ',df['Purchase'].median())"
   ]
  },
  {
   "cell_type": "markdown",
   "metadata": {},
   "source": [
    "Most importantly,based on my previous try with working on this dataset as a regression problem, the regression metrics I received weren't that good.\n",
    "So I'm going to convert the purchase variable into a categoric variable, thus framing this problem as classification."
   ]
  },
  {
   "cell_type": "markdown",
   "metadata": {},
   "source": [
    "The mean and the median are away from each other, let's see if we can remove some outliers and bring the mean & median more closer before we categorize this variable"
   ]
  },
  {
   "cell_type": "code",
   "execution_count": 94,
   "metadata": {},
   "outputs": [],
   "source": [
    "q25,q75 = np.percentile(df['Purchase'],[25,75])\n",
    "iqr = q75-q25\n",
    "maximum = q75+(iqr*1.5)\n",
    "minimum = q25-(iqr*1.5)\n",
    "df.loc[df['Purchase']>maximum,'Purchase']=np.NaN\n",
    "df.loc[df['Purchase']<minimum,'Purchase']=np.NaN"
   ]
  },
  {
   "cell_type": "markdown",
   "metadata": {},
   "source": [
    "Missing values after Outlier removal"
   ]
  },
  {
   "cell_type": "code",
   "execution_count": 95,
   "metadata": {},
   "outputs": [
    {
     "data": {
      "text/plain": [
       "0.4890286690784809"
      ]
     },
     "execution_count": 95,
     "metadata": {},
     "output_type": "execute_result"
    }
   ],
   "source": [
    "(df['Purchase'].isnull().sum()/df.shape[0])*100"
   ]
  },
  {
   "cell_type": "markdown",
   "metadata": {},
   "source": [
    "Let's impute the missing data with median values"
   ]
  },
  {
   "cell_type": "code",
   "execution_count": 96,
   "metadata": {},
   "outputs": [
    {
     "data": {
      "text/plain": [
       "0.0"
      ]
     },
     "execution_count": 96,
     "metadata": {},
     "output_type": "execute_result"
    }
   ],
   "source": [
    "df['Purchase'].fillna(df['Purchase'].median(),inplace=True)\n",
    "(df['Purchase'].isnull().sum()/df.shape[0])*100"
   ]
  },
  {
   "cell_type": "code",
   "execution_count": 83,
   "metadata": {},
   "outputs": [
    {
     "data": {
      "image/png": "[encoded data removed]",
      "text/plain": [
       "<Figure size 432x288 with 1 Axes>"
      ]
     },
     "metadata": {
      "needs_background": "light"
     },
     "output_type": "display_data"
    },
    {
     "name": "stdout",
     "output_type": "stream",
     "text": [
      "mean:  9200.956514625412\n",
      "median:  8044.0\n"
     ]
    }
   ],
   "source": [
    "sns.distplot(df['Purchase'],norm_hist=True,color='blue',kde_kws={'label':'KDE'}) # histogram with the kernel-distribution line.\n",
    "plt.axvline(df['Purchase'].mean(), color = 'r', linestyle = 'dashed', linewidth = 2) # plotting mean line\n",
    "plt.axvline(df['Purchase'].median(),color='b',linewidth=2) # plotting median line\n",
    "plt.show()\n",
    "print ('mean: ',df['Purchase'].mean())\n",
    "print ('median: ',df['Purchase'].median())"
   ]
  },
  {
   "cell_type": "markdown",
   "metadata": {},
   "source": [
    "SO, the difference after removing the Outliers isn't much. Let's categorize this variable"
   ]
  },
  {
   "cell_type": "markdown",
   "metadata": {},
   "source": [
    "We will categorize all values above the median: 9211 as class 1 and anything below it as class 0 "
   ]
  },
  {
   "cell_type": "code",
   "execution_count": 97,
   "metadata": {},
   "outputs": [
    {
     "name": "stdout",
     "output_type": "stream",
     "text": [
      "[0 1]\n"
     ]
    },
    {
     "data": {
      "text/plain": [
       "0    27650\n",
       "1    27357\n",
       "Name: Purchase, dtype: int64"
      ]
     },
     "execution_count": 97,
     "metadata": {},
     "output_type": "execute_result"
    }
   ],
   "source": [
    "med = df['Purchase'].median()\n",
    "df['Purchase'] = np.where((df['Purchase'] >med),1,0)\n",
    "df['Purchase'] = df['Purchase'].astype('object')\n",
    "print (df['Purchase'].unique())\n",
    "df['Purchase'].value_counts()"
   ]
  },
  {
   "cell_type": "markdown",
   "metadata": {},
   "source": [
    "Let's do Chi-square test to compare the now binary-categorical variable with the independent features"
   ]
  },
  {
   "cell_type": "code",
   "execution_count": 101,
   "metadata": {},
   "outputs": [
    {
     "name": "stdout",
     "output_type": "stream",
     "text": [
      "Related:  ['User_ID', 'Product_ID', 'Gender', 'Age', 'Occupation', 'City_Category', 'Stay_In_Current_City_Years', 'Marital_Status', 'Product_Category_1', 'Purchase']\n",
      "Unrelated:  []\n"
     ]
    }
   ],
   "source": [
    "from scipy.stats import chi2_contingency\n",
    "\n",
    "Chi_related=[]\n",
    "Chi_unrelated=[]\n",
    "\n",
    "for i in df.columns:\n",
    "    #print(i)\n",
    "    chi2, p, dof, ex = chi2_contingency(pd.crosstab(df['Purchase'], df[i]))\n",
    "    if pVal<0.05:\n",
    "        Chi_related.append(i)\n",
    "    else:\n",
    "        Chi_unrelated.append(i)\n",
    "        \n",
    "print ('Related: ',Chi_related)       \n",
    "print ('Unrelated: ',Chi_unrelated)"
   ]
  },
  {
   "cell_type": "markdown",
   "metadata": {},
   "source": [
    "This test too says that all variables are related to the Purchase variable"
   ]
  },
  {
   "cell_type": "markdown",
   "metadata": {},
   "source": [
    "Unfortunately, we'll have to to drop 'User_ID', 'Product_ID' variables because they have too many unique values for categorical classes which when One-hot encoded will increase the dimesion of data so high that it will be difficult for my computer to process."
   ]
  },
  {
   "cell_type": "code",
   "execution_count": 102,
   "metadata": {},
   "outputs": [
    {
     "name": "stdout",
     "output_type": "stream",
     "text": [
      "(55007, 8)\n"
     ]
    },
    {
     "data": {
      "text/html": [
       "<div>\n",
       "<style scoped>\n",
       "    .dataframe tbody tr th:only-of-type {\n",
       "        vertical-align: middle;\n",
       "    }\n",
       "\n",
       "    .dataframe tbody tr th {\n",
       "        vertical-align: top;\n",
       "    }\n",
       "\n",
       "    .dataframe thead th {\n",
       "        text-align: right;\n",
       "    }\n",
       "</style>\n",
       "<table border=\"1\" class=\"dataframe\">\n",
       "  <thead>\n",
       "    <tr style=\"text-align: right;\">\n",
       "      <th></th>\n",
       "      <th>Gender</th>\n",
       "      <th>Age</th>\n",
       "      <th>Occupation</th>\n",
       "      <th>City_Category</th>\n",
       "      <th>Stay_In_Current_City_Years</th>\n",
       "      <th>Marital_Status</th>\n",
       "      <th>Product_Category_1</th>\n",
       "      <th>Purchase</th>\n",
       "    </tr>\n",
       "  </thead>\n",
       "  <tbody>\n",
       "    <tr>\n",
       "      <th>57377</th>\n",
       "      <td>1</td>\n",
       "      <td>3</td>\n",
       "      <td>12</td>\n",
       "      <td>1</td>\n",
       "      <td>3</td>\n",
       "      <td>0</td>\n",
       "      <td>0</td>\n",
       "      <td>0</td>\n",
       "    </tr>\n",
       "    <tr>\n",
       "      <th>4997</th>\n",
       "      <td>1</td>\n",
       "      <td>1</td>\n",
       "      <td>4</td>\n",
       "      <td>1</td>\n",
       "      <td>2</td>\n",
       "      <td>0</td>\n",
       "      <td>0</td>\n",
       "      <td>1</td>\n",
       "    </tr>\n",
       "    <tr>\n",
       "      <th>281297</th>\n",
       "      <td>1</td>\n",
       "      <td>2</td>\n",
       "      <td>7</td>\n",
       "      <td>0</td>\n",
       "      <td>2</td>\n",
       "      <td>0</td>\n",
       "      <td>10</td>\n",
       "      <td>0</td>\n",
       "    </tr>\n",
       "  </tbody>\n",
       "</table>\n",
       "</div>"
      ],
      "text/plain": [
       "        Gender  Age  Occupation  City_Category  Stay_In_Current_City_Years  \\\n",
       "57377        1    3          12              1                           3   \n",
       "4997         1    1           4              1                           2   \n",
       "281297       1    2           7              0                           2   \n",
       "\n",
       "        Marital_Status  Product_Category_1 Purchase  \n",
       "57377                0                   0        0  \n",
       "4997                 0                   0        1  \n",
       "281297               0                  10        0  "
      ]
     },
     "execution_count": 102,
     "metadata": {},
     "output_type": "execute_result"
    }
   ],
   "source": [
    "df.drop(['User_ID', 'Product_ID'],axis=1,inplace=True)\n",
    "print (df.shape)\n",
    "df.head(3)"
   ]
  },
  {
   "cell_type": "markdown",
   "metadata": {},
   "source": [
    "Let's One-Hot encode the categorical variables then"
   ]
  },
  {
   "cell_type": "code",
   "execution_count": 109,
   "metadata": {},
   "outputs": [
    {
     "name": "stdout",
     "output_type": "stream",
     "text": [
      "(55007, 60)\n"
     ]
    },
    {
     "data": {
      "text/html": [
       "<div>\n",
       "<style scoped>\n",
       "    .dataframe tbody tr th:only-of-type {\n",
       "        vertical-align: middle;\n",
       "    }\n",
       "\n",
       "    .dataframe tbody tr th {\n",
       "        vertical-align: top;\n",
       "    }\n",
       "\n",
       "    .dataframe thead th {\n",
       "        text-align: right;\n",
       "    }\n",
       "</style>\n",
       "<table border=\"1\" class=\"dataframe\">\n",
       "  <thead>\n",
       "    <tr style=\"text-align: right;\">\n",
       "      <th></th>\n",
       "      <th>Gender</th>\n",
       "      <th>Age_0</th>\n",
       "      <th>Age_1</th>\n",
       "      <th>Age_2</th>\n",
       "      <th>Age_3</th>\n",
       "      <th>Age_4</th>\n",
       "      <th>Age_5</th>\n",
       "      <th>Age_6</th>\n",
       "      <th>Occupation_0</th>\n",
       "      <th>Occupation_1</th>\n",
       "      <th>...</th>\n",
       "      <th>Product_Category_1_11</th>\n",
       "      <th>Product_Category_1_12</th>\n",
       "      <th>Product_Category_1_13</th>\n",
       "      <th>Product_Category_1_14</th>\n",
       "      <th>Product_Category_1_15</th>\n",
       "      <th>Product_Category_1_16</th>\n",
       "      <th>Product_Category_1_17</th>\n",
       "      <th>Product_Category_1_18</th>\n",
       "      <th>Product_Category_1_19</th>\n",
       "      <th>Purchase</th>\n",
       "    </tr>\n",
       "  </thead>\n",
       "  <tbody>\n",
       "    <tr>\n",
       "      <th>57377</th>\n",
       "      <td>1</td>\n",
       "      <td>0</td>\n",
       "      <td>0</td>\n",
       "      <td>0</td>\n",
       "      <td>1</td>\n",
       "      <td>0</td>\n",
       "      <td>0</td>\n",
       "      <td>0</td>\n",
       "      <td>0</td>\n",
       "      <td>0</td>\n",
       "      <td>...</td>\n",
       "      <td>0</td>\n",
       "      <td>0</td>\n",
       "      <td>0</td>\n",
       "      <td>0</td>\n",
       "      <td>0</td>\n",
       "      <td>0</td>\n",
       "      <td>0</td>\n",
       "      <td>0</td>\n",
       "      <td>0</td>\n",
       "      <td>0</td>\n",
       "    </tr>\n",
       "    <tr>\n",
       "      <th>4997</th>\n",
       "      <td>1</td>\n",
       "      <td>0</td>\n",
       "      <td>1</td>\n",
       "      <td>0</td>\n",
       "      <td>0</td>\n",
       "      <td>0</td>\n",
       "      <td>0</td>\n",
       "      <td>0</td>\n",
       "      <td>0</td>\n",
       "      <td>0</td>\n",
       "      <td>...</td>\n",
       "      <td>0</td>\n",
       "      <td>0</td>\n",
       "      <td>0</td>\n",
       "      <td>0</td>\n",
       "      <td>0</td>\n",
       "      <td>0</td>\n",
       "      <td>0</td>\n",
       "      <td>0</td>\n",
       "      <td>0</td>\n",
       "      <td>1</td>\n",
       "    </tr>\n",
       "    <tr>\n",
       "      <th>281297</th>\n",
       "      <td>1</td>\n",
       "      <td>0</td>\n",
       "      <td>0</td>\n",
       "      <td>1</td>\n",
       "      <td>0</td>\n",
       "      <td>0</td>\n",
       "      <td>0</td>\n",
       "      <td>0</td>\n",
       "      <td>0</td>\n",
       "      <td>0</td>\n",
       "      <td>...</td>\n",
       "      <td>0</td>\n",
       "      <td>0</td>\n",
       "      <td>0</td>\n",
       "      <td>0</td>\n",
       "      <td>0</td>\n",
       "      <td>0</td>\n",
       "      <td>0</td>\n",
       "      <td>0</td>\n",
       "      <td>0</td>\n",
       "      <td>0</td>\n",
       "    </tr>\n",
       "  </tbody>\n",
       "</table>\n",
       "<p>3 rows × 60 columns</p>\n",
       "</div>"
      ],
      "text/plain": [
       "        Gender  Age_0  Age_1  Age_2  Age_3  Age_4  Age_5  Age_6  Occupation_0  \\\n",
       "57377        1      0      0      0      1      0      0      0             0   \n",
       "4997         1      0      1      0      0      0      0      0             0   \n",
       "281297       1      0      0      1      0      0      0      0             0   \n",
       "\n",
       "        Occupation_1  ...  Product_Category_1_11  Product_Category_1_12  \\\n",
       "57377              0  ...                      0                      0   \n",
       "4997               0  ...                      0                      0   \n",
       "281297             0  ...                      0                      0   \n",
       "\n",
       "        Product_Category_1_13  Product_Category_1_14  Product_Category_1_15  \\\n",
       "57377                       0                      0                      0   \n",
       "4997                        0                      0                      0   \n",
       "281297                      0                      0                      0   \n",
       "\n",
       "        Product_Category_1_16  Product_Category_1_17  Product_Category_1_18  \\\n",
       "57377                       0                      0                      0   \n",
       "4997                        0                      0                      0   \n",
       "281297                      0                      0                      0   \n",
       "\n",
       "        Product_Category_1_19  Purchase  \n",
       "57377                       0         0  \n",
       "4997                        0         1  \n",
       "281297                      0         0  \n",
       "\n",
       "[3 rows x 60 columns]"
      ]
     },
     "execution_count": 109,
     "metadata": {},
     "output_type": "execute_result"
    }
   ],
   "source": [
    "df_new = df[['Gender']]\n",
    "for i in ['Age','Occupation','City_Category','Stay_In_Current_City_Years','Marital_Status','Product_Category_1']:\n",
    "    new_ind = pd.get_dummies(df[i],prefix=i)\n",
    "    df_new = pd.concat([df_new,new_ind],axis=1)\n",
    "\n",
    "df_new = pd.concat([df_new,df['Purchase']],axis=1)    \n",
    "print (df_new.shape)\n",
    "df_new.head(3)"
   ]
  },
  {
   "cell_type": "code",
   "execution_count": 124,
   "metadata": {},
   "outputs": [],
   "source": [
    "df_new = df_new.astype('object')"
   ]
  },
  {
   "cell_type": "markdown",
   "metadata": {},
   "source": [
    "Let's split the data into train & test"
   ]
  },
  {
   "cell_type": "code",
   "execution_count": 151,
   "metadata": {},
   "outputs": [
    {
     "ename": "AttributeError",
     "evalue": "'list' object has no attribute 'astype'",
     "output_type": "error",
     "traceback": [
      "\u001b[1;31m---------------------------------------------------------------------------\u001b[0m",
      "\u001b[1;31mAttributeError\u001b[0m                            Traceback (most recent call last)",
      "\u001b[1;32m<ipython-input-151-fa884e6204d1>\u001b[0m in \u001b[0;36m<module>\u001b[1;34m\u001b[0m\n\u001b[0;32m      3\u001b[0m \u001b[1;33m\u001b[0m\u001b[0m\n\u001b[0;32m      4\u001b[0m \u001b[1;31m# Let's split the data into train & test before oversampling the training data\u001b[0m\u001b[1;33m\u001b[0m\u001b[1;33m\u001b[0m\u001b[1;33m\u001b[0m\u001b[0m\n\u001b[1;32m----> 5\u001b[1;33m \u001b[0mX_train\u001b[0m\u001b[1;33m,\u001b[0m\u001b[0mX_test\u001b[0m\u001b[1;33m,\u001b[0m\u001b[0my_train\u001b[0m\u001b[1;33m,\u001b[0m\u001b[0my_test\u001b[0m\u001b[1;33m=\u001b[0m\u001b[0mtrain_test_split\u001b[0m\u001b[1;33m(\u001b[0m\u001b[0mdf_new\u001b[0m\u001b[1;33m.\u001b[0m\u001b[0mdrop\u001b[0m\u001b[1;33m(\u001b[0m\u001b[1;33m[\u001b[0m\u001b[1;34m'Purchase'\u001b[0m\u001b[1;33m]\u001b[0m\u001b[1;33m.\u001b[0m\u001b[0mastype\u001b[0m\u001b[1;33m(\u001b[0m\u001b[1;34m'float'\u001b[0m\u001b[1;33m)\u001b[0m\u001b[1;33m,\u001b[0m\u001b[0maxis\u001b[0m\u001b[1;33m=\u001b[0m\u001b[1;36m1\u001b[0m\u001b[1;33m)\u001b[0m\u001b[1;33m,\u001b[0m\u001b[0mdf_new\u001b[0m\u001b[1;33m[\u001b[0m\u001b[1;34m'Purchase'\u001b[0m\u001b[1;33m]\u001b[0m\u001b[1;33m.\u001b[0m\u001b[0mastype\u001b[0m\u001b[1;33m(\u001b[0m\u001b[1;34m'int'\u001b[0m\u001b[1;33m)\u001b[0m\u001b[1;33m,\u001b[0m\u001b[0mtrain_size\u001b[0m\u001b[1;33m=\u001b[0m\u001b[1;36m0.7\u001b[0m\u001b[1;33m)\u001b[0m\u001b[1;33m\u001b[0m\u001b[1;33m\u001b[0m\u001b[0m\n\u001b[0m\u001b[0;32m      6\u001b[0m \u001b[0mprint\u001b[0m \u001b[1;33m(\u001b[0m\u001b[1;34m'Training shape: '\u001b[0m\u001b[1;33m,\u001b[0m\u001b[0mX_train\u001b[0m\u001b[1;33m.\u001b[0m\u001b[0mshape\u001b[0m\u001b[1;33m,\u001b[0m\u001b[0my_train\u001b[0m\u001b[1;33m.\u001b[0m\u001b[0mshape\u001b[0m\u001b[1;33m)\u001b[0m\u001b[1;33m\u001b[0m\u001b[1;33m\u001b[0m\u001b[0m\n\u001b[0;32m      7\u001b[0m \u001b[0mprint\u001b[0m \u001b[1;33m(\u001b[0m\u001b[1;34m'Testing shape: '\u001b[0m\u001b[1;33m,\u001b[0m\u001b[0mX_test\u001b[0m\u001b[1;33m.\u001b[0m\u001b[0mshape\u001b[0m\u001b[1;33m,\u001b[0m\u001b[0my_test\u001b[0m\u001b[1;33m.\u001b[0m\u001b[0mshape\u001b[0m\u001b[1;33m)\u001b[0m\u001b[1;33m\u001b[0m\u001b[1;33m\u001b[0m\u001b[0m\n",
      "\u001b[1;31mAttributeError\u001b[0m: 'list' object has no attribute 'astype'"
     ]
    }
   ],
   "source": [
    "from sklearn.model_selection import train_test_split\n",
    "from collections import Counter\n",
    "\n",
    "# Let's split the data into train & test before oversampling the training data\n",
    "X_train,X_test,y_train,y_test=train_test_split(df_new.drop(['Purchase'].astype('float'),axis=1),df_new['Purchase'].astype('int'),train_size=0.7)\n",
    "print ('Training shape: ',X_train.shape,y_train.shape)\n",
    "print ('Testing shape: ',X_test.shape,y_test.shape)"
   ]
  },
  {
   "cell_type": "markdown",
   "metadata": {},
   "source": [
    "Let's define an error-metric function to judge the model's classifications"
   ]
  },
  {
   "cell_type": "code",
   "execution_count": 112,
   "metadata": {},
   "outputs": [],
   "source": [
    "from sklearn.metrics import accuracy_score,confusion_matrix,classification_report\n",
    "\n",
    "def error_metric(y_true,y_preds):\n",
    "    CM = pd.crosstab(y_true,y_preds) # the confusion matrix\n",
    "    TN = CM.iloc[0,0]\n",
    "    FN = CM.iloc[1,0]\n",
    "    TP = CM.iloc[1,1]\n",
    "    FP = CM.iloc[0,1]\n",
    "    print (classification_report(y_true, y_preds))\n",
    "    print (confusion_matrix(y_true,y_preds))\n",
    "    print ('accuracy score: ',accuracy_score(y_true, y_preds)*100,'%') #check accuracy of model\n",
    "    print ('False-Negative-Rate: ',(FN*100)/(FN+TP),'%') #False Negative rate \n",
    "    print ('true-positive-rate: ',((TP)*100)/(TP+FN),'%')"
   ]
  },
  {
   "cell_type": "markdown",
   "metadata": {},
   "source": [
    "Let's also define a function to plot the AUC-ROC curve"
   ]
  },
  {
   "cell_type": "code",
   "execution_count": 113,
   "metadata": {},
   "outputs": [],
   "source": [
    "from sklearn.metrics import roc_curve, auc, roc_auc_score\n",
    "from matplotlib import pyplot as plt\n",
    "def plotRocAuc(fpr, tpr, thresholds,score):\n",
    "       \n",
    "    # Plot the \"dumb model\" line\n",
    "    plt.plot([0, 1], [0, 1], linestyle='--')\n",
    "    \n",
    "    # Plot the model line\n",
    "    plt.plot(fpr, tpr, marker='.')\n",
    "    plt.text(0.75, 0.25, \"AUC: \" + str(round(score,2)))\n",
    "    \n",
    "    # show the plot\n",
    "    plt.show()"
   ]
  },
  {
   "cell_type": "markdown",
   "metadata": {},
   "source": [
    "### Logistic Regression"
   ]
  },
  {
   "cell_type": "code",
   "execution_count": 132,
   "metadata": {},
   "outputs": [
    {
     "name": "stderr",
     "output_type": "stream",
     "text": [
      "c:\\python37\\lib\\site-packages\\sklearn\\linear_model\\_logistic.py:764: ConvergenceWarning: lbfgs failed to converge (status=1):\n",
      "STOP: TOTAL NO. of ITERATIONS REACHED LIMIT.\n",
      "\n",
      "Increase the number of iterations (max_iter) or scale the data as shown in:\n",
      "    https://scikit-learn.org/stable/modules/preprocessing.html\n",
      "Please also refer to the documentation for alternative solver options:\n",
      "    https://scikit-learn.org/stable/modules/linear_model.html#logistic-regression\n",
      "  extra_warning_msg=_LOGISTIC_SOLVER_CONVERGENCE_MSG)\n"
     ]
    },
    {
     "name": "stdout",
     "output_type": "stream",
     "text": [
      "              precision    recall  f1-score   support\n",
      "\n",
      "           0       0.77      0.88      0.82      8325\n",
      "           1       0.86      0.73      0.79      8178\n",
      "\n",
      "    accuracy                           0.80     16503\n",
      "   macro avg       0.81      0.80      0.80     16503\n",
      "weighted avg       0.81      0.80      0.80     16503\n",
      "\n",
      "[[7325 1000]\n",
      " [2244 5934]]\n",
      "accuracy score:  80.34296794522207 %\n",
      "False-Negative-Rate:  27.43947175348496 %\n",
      "true-positive-rate:  72.56052824651503 %\n",
      "None\n"
     ]
    },
    {
     "data": {
      "image/png": "[encoded data removed]",
      "text/plain": [
       "<Figure size 432x288 with 1 Axes>"
      ]
     },
     "metadata": {
      "needs_background": "light"
     },
     "output_type": "display_data"
    }
   ],
   "source": [
    "from sklearn.linear_model import LogisticRegression\n",
    "LR_model = LogisticRegression().fit(X_train,y_train) \n",
    "LR_preds = LR_model.predict_proba(X_test)\n",
    "print (error_metric(y_test,np.round((LR_preds)[:,1])))\n",
    "LR_fpr,LR_tpr,LR_thresholds = roc_curve(y_test,LR_preds[:,1])\n",
    "LR_score = roc_auc_score(y_test, LR_preds[:,1])\n",
    "plotRocAuc(LR_fpr, LR_tpr, LR_thresholds,LR_score)"
   ]
  },
  {
   "cell_type": "markdown",
   "metadata": {},
   "source": [
    "### DecisionTree Classifier"
   ]
  },
  {
   "cell_type": "code",
   "execution_count": 133,
   "metadata": {},
   "outputs": [
    {
     "name": "stdout",
     "output_type": "stream",
     "text": [
      "              precision    recall  f1-score   support\n",
      "\n",
      "           0       0.76      0.83      0.79      8325\n",
      "           1       0.81      0.73      0.77      8178\n",
      "\n",
      "    accuracy                           0.78     16503\n",
      "   macro avg       0.78      0.78      0.78     16503\n",
      "weighted avg       0.78      0.78      0.78     16503\n",
      "\n",
      "[[6923 1402]\n",
      " [2240 5938]]\n",
      "accuracy score:  77.93128522086893 %\n",
      "False-Negative-Rate:  27.390560039129372 %\n",
      "true-positive-rate:  72.60943996087063 %\n",
      "None\n"
     ]
    },
    {
     "data": {
      "image/png": "[encoded data removed]",
      "text/plain": [
       "<Figure size 432x288 with 1 Axes>"
      ]
     },
     "metadata": {
      "needs_background": "light"
     },
     "output_type": "display_data"
    }
   ],
   "source": [
    "from sklearn.tree import DecisionTreeClassifier\n",
    "DT_model = DecisionTreeClassifier(criterion='entropy').fit(X_train,y_train)\n",
    "DT_preds = DT_model.predict_proba(X_test)\n",
    "print(error_metric(y_test,np.round(DT_preds[:,1])))\n",
    "DT_fpr, DT_tpr, DT_thresholds = roc_curve(y_test, DT_preds[:,1])\n",
    "DT_score = roc_auc_score(y_test, DT_preds[:,1])\n",
    "plotRocAuc(DT_fpr, DT_tpr, DT_thresholds,DT_score)"
   ]
  },
  {
   "cell_type": "markdown",
   "metadata": {},
   "source": [
    "### RandomForest Classifier"
   ]
  },
  {
   "cell_type": "code",
   "execution_count": 134,
   "metadata": {},
   "outputs": [
    {
     "name": "stdout",
     "output_type": "stream",
     "text": [
      "              precision    recall  f1-score   support\n",
      "\n",
      "           0       0.78      0.81      0.79      8325\n",
      "           1       0.80      0.77      0.78      8178\n",
      "\n",
      "    accuracy                           0.79     16503\n",
      "   macro avg       0.79      0.79      0.79     16503\n",
      "weighted avg       0.79      0.79      0.79     16503\n",
      "\n",
      "[[6723 1602]\n",
      " [1920 6258]]\n",
      "accuracy score:  78.6584257407744 %\n",
      "False-Negative-Rate:  23.47762289068232 %\n",
      "true-positive-rate:  76.52237710931769 %\n"
     ]
    },
    {
     "data": {
      "image/png": "[encoded data removed]",
      "text/plain": [
       "<Figure size 432x288 with 1 Axes>"
      ]
     },
     "metadata": {
      "needs_background": "light"
     },
     "output_type": "display_data"
    }
   ],
   "source": [
    "from sklearn.ensemble import RandomForestClassifier\n",
    "RF_model = RandomForestClassifier(n_estimators=100).fit(X_train,y_train)\n",
    "RF_preds = RF_model.predict_proba(X_test)\n",
    "error_metric(y_test,np.round(RF_preds[:,1]))\n",
    "RF_fpr,RF_tpr,RF_thresholds = roc_curve(y_test,RF_preds[:,1])\n",
    "RF_score = roc_auc_score(y_test, RF_preds[:,1])\n",
    "plotRocAuc(RF_fpr, RF_tpr, RF_thresholds, RF_score)"
   ]
  },
  {
   "cell_type": "markdown",
   "metadata": {},
   "source": [
    "### Naive Bayes"
   ]
  },
  {
   "cell_type": "code",
   "execution_count": 135,
   "metadata": {},
   "outputs": [
    {
     "name": "stdout",
     "output_type": "stream",
     "text": [
      "              precision    recall  f1-score   support\n",
      "\n",
      "           0       1.00      0.19      0.32      8325\n",
      "           1       0.55      1.00      0.71      8178\n",
      "\n",
      "    accuracy                           0.59     16503\n",
      "   macro avg       0.77      0.60      0.52     16503\n",
      "weighted avg       0.78      0.59      0.51     16503\n",
      "\n",
      "[[1609 6716]\n",
      " [   0 8178]]\n",
      "accuracy score:  59.304368902623764 %\n",
      "False-Negative-Rate:  0.0 %\n",
      "true-positive-rate:  100.0 %\n",
      "None\n"
     ]
    },
    {
     "data": {
      "image/png": "[encoded data removed]",
      "text/plain": [
       "<Figure size 432x288 with 1 Axes>"
      ]
     },
     "metadata": {
      "needs_background": "light"
     },
     "output_type": "display_data"
    }
   ],
   "source": [
    "from sklearn.naive_bayes import GaussianNB\n",
    "NB_model = GaussianNB().fit(X_train,y_train)\n",
    "NB_preds = NB_model.predict_proba(X_test)\n",
    "print (error_metric(y_test,np.round((NB_preds)[:,1])))\n",
    "NB_fpr,NB_tpr,NB_thresholds = roc_curve(y_test,NB_preds[:,1])\n",
    "NB_score = roc_auc_score(y_test, NB_preds[:,1])\n",
    "plotRocAuc(NB_fpr, NB_tpr, NB_thresholds, NB_score)"
   ]
  },
  {
   "cell_type": "markdown",
   "metadata": {},
   "source": [
    "### K-Nearest Neighbours classifier"
   ]
  },
  {
   "cell_type": "code",
   "execution_count": 136,
   "metadata": {},
   "outputs": [
    {
     "name": "stdout",
     "output_type": "stream",
     "text": [
      "              precision    recall  f1-score   support\n",
      "\n",
      "           0       0.74      0.77      0.75      8325\n",
      "           1       0.75      0.72      0.74      8178\n",
      "\n",
      "    accuracy                           0.74     16503\n",
      "   macro avg       0.74      0.74      0.74     16503\n",
      "weighted avg       0.74      0.74      0.74     16503\n",
      "\n",
      "[[6391 1934]\n",
      " [2282 5896]]\n",
      "accuracy score:  74.45312973398775 %\n",
      "False-Negative-Rate:  27.904133039863048 %\n",
      "true-positive-rate:  72.09586696013696 %\n",
      "None\n"
     ]
    },
    {
     "data": {
      "image/png": "[encoded data removed]",
      "text/plain": [
       "<Figure size 432x288 with 1 Axes>"
      ]
     },
     "metadata": {
      "needs_background": "light"
     },
     "output_type": "display_data"
    }
   ],
   "source": [
    "from sklearn.neighbors import KNeighborsClassifier\n",
    "K_model = KNeighborsClassifier(n_neighbors=5).fit(X_train,y_train)\n",
    "K_preds = K_model.predict_proba(X_test)\n",
    "print (error_metric(y_test,np.round((K_preds)[:,1])))\n",
    "K_fpr,K_tpr,K_thresholds = roc_curve(y_test,K_preds[:,1])\n",
    "K_score = roc_auc_score(y_test, K_preds[:,1])\n",
    "plotRocAuc(K_fpr, K_tpr, K_thresholds, K_score)"
   ]
  },
  {
   "cell_type": "markdown",
   "metadata": {},
   "source": [
    "### AdaBoost Classifier"
   ]
  },
  {
   "cell_type": "code",
   "execution_count": 137,
   "metadata": {},
   "outputs": [
    {
     "name": "stdout",
     "output_type": "stream",
     "text": [
      "              precision    recall  f1-score   support\n",
      "\n",
      "           0       0.77      0.88      0.82      8325\n",
      "           1       0.85      0.73      0.79      8178\n",
      "\n",
      "    accuracy                           0.80     16503\n",
      "   macro avg       0.81      0.80      0.80     16503\n",
      "weighted avg       0.81      0.80      0.80     16503\n",
      "\n",
      "[[7316 1009]\n",
      " [2236 5942]]\n",
      "accuracy score:  80.33690844088953 %\n",
      "False-Negative-Rate:  27.341648324773782 %\n",
      "true-positive-rate:  72.65835167522621 %\n"
     ]
    },
    {
     "data": {
      "image/png": "[encoded data removed]",
      "text/plain": [
       "<Figure size 432x288 with 1 Axes>"
      ]
     },
     "metadata": {
      "needs_background": "light"
     },
     "output_type": "display_data"
    }
   ],
   "source": [
    "from sklearn.ensemble import AdaBoostClassifier\n",
    "ada_classifier=AdaBoostClassifier().fit(X_train, y_train)\n",
    "ADA_preds = ada_classifier.predict_proba(X_test)\n",
    "ADA_fpr, ADA_tpr, ADA_thresholds = roc_curve(y_test, ADA_preds[:,1])\n",
    "ADA_score = roc_auc_score(y_test, ADA_preds[:,1])\n",
    "error_metric(y_test,np.round(ADA_preds[:,1]))\n",
    "plotRocAuc(ADA_fpr, ADA_tpr, ADA_thresholds, ADA_score)"
   ]
  },
  {
   "cell_type": "markdown",
   "metadata": {},
   "source": [
    "###  XGBoost Classifier"
   ]
  },
  {
   "cell_type": "code",
   "execution_count": 149,
   "metadata": {},
   "outputs": [
    {
     "name": "stdout",
     "output_type": "stream",
     "text": [
      "              precision    recall  f1-score   support\n",
      "\n",
      "           0       0.77      0.87      0.82      8325\n",
      "           1       0.84      0.74      0.79      8178\n",
      "\n",
      "    accuracy                           0.80     16503\n",
      "   macro avg       0.81      0.80      0.80     16503\n",
      "weighted avg       0.81      0.80      0.80     16503\n",
      "\n",
      "[[7207 1118]\n",
      " [2123 6055]]\n",
      "accuracy score:  80.36114645821971 %\n",
      "False-Negative-Rate:  25.95989239422842 %\n",
      "true-positive-rate:  74.04010760577158 %\n"
     ]
    },
    {
     "data": {
      "image/png": "[encoded data removed]",
      "text/plain": [
       "<Figure size 432x288 with 1 Axes>"
      ]
     },
     "metadata": {
      "needs_background": "light"
     },
     "output_type": "display_data"
    }
   ],
   "source": [
    "from xgboost import XGBClassifier\n",
    "XG_model = XGBClassifier().fit(X_train.astype('float'),y_train.astype('int32'))\n",
    "XG_preds = XG_model.predict_proba(X_test.astype('float'))\n",
    "XG_fpr, XG_tpr, XG_thresholds = roc_curve(y_test, XG_preds[:,1])\n",
    "XG_score = roc_auc_score(y_test.astype('int32', XG_preds[:,1])\n",
    "error_metric(y_test,np.round(XG_preds[:,1]))\n",
    "plotRocAuc(XG_fpr, XG_tpr, XG_thresholds, XG_score)"
   ]
  },
  {
   "cell_type": "markdown",
   "metadata": {},
   "source": [
    "### Neural Network"
   ]
  },
  {
   "cell_type": "code",
   "execution_count": 154,
   "metadata": {},
   "outputs": [
    {
     "name": "stdout",
     "output_type": "stream",
     "text": [
      "(26952, 59) (26952,)\n",
      "(11552, 59) (11552,)\n",
      "Epoch 1/10\n",
      "843/843 [==============================] - 4s 4ms/step - loss: 0.5374 - accuracy: 0.7537 - val_loss: 0.4570 - val_accuracy: 0.8050\n",
      "Epoch 2/10\n",
      "843/843 [==============================] - 3s 4ms/step - loss: 0.4452 - accuracy: 0.8048 - val_loss: 0.4430 - val_accuracy: 0.8058\n",
      "Epoch 3/10\n",
      "843/843 [==============================] - 3s 4ms/step - loss: 0.4415 - accuracy: 0.8054 - val_loss: 0.4424 - val_accuracy: 0.8040\n",
      "Epoch 4/10\n",
      "843/843 [==============================] - 3s 4ms/step - loss: 0.4407 - accuracy: 0.8043 - val_loss: 0.4439 - val_accuracy: 0.8019\n",
      "Epoch 5/10\n",
      "843/843 [==============================] - 4s 4ms/step - loss: 0.4404 - accuracy: 0.8066 - val_loss: 0.4414 - val_accuracy: 0.8048\n",
      "Epoch 6/10\n",
      "843/843 [==============================] - 3s 4ms/step - loss: 0.4399 - accuracy: 0.8057 - val_loss: 0.4446 - val_accuracy: 0.8058\n",
      "Epoch 7/10\n",
      "843/843 [==============================] - 3s 4ms/step - loss: 0.4400 - accuracy: 0.8051 - val_loss: 0.4556 - val_accuracy: 0.7913\n",
      "Epoch 8/10\n",
      "843/843 [==============================] - 3s 4ms/step - loss: 0.4395 - accuracy: 0.8050 - val_loss: 0.4406 - val_accuracy: 0.8061\n",
      "Epoch 9/10\n",
      "843/843 [==============================] - 3s 4ms/step - loss: 0.4395 - accuracy: 0.8058 - val_loss: 0.4396 - val_accuracy: 0.8064\n",
      "Epoch 10/10\n",
      "843/843 [==============================] - 3s 4ms/step - loss: 0.4389 - accuracy: 0.8051 - val_loss: 0.4400 - val_accuracy: 0.8060\n",
      "(16503, 1)\n",
      "516/516 [==============================] - 2s 4ms/step - loss: 0.4428 - accuracy: 0.8030\n",
      "loss :  0.4428061544895172\n",
      "accuracy :  0.8030055165290833\n"
     ]
    },
    {
     "data": {
      "image/png": "[encoded data removed]",
      "text/plain": [
       "<Figure size 432x288 with 1 Axes>"
      ]
     },
     "metadata": {
      "needs_background": "light"
     },
     "output_type": "display_data"
    },
    {
     "name": "stdout",
     "output_type": "stream",
     "text": [
      "              precision    recall  f1-score   support\n",
      "\n",
      "           0       0.76      0.88      0.82      8325\n",
      "           1       0.86      0.72      0.78      8178\n",
      "\n",
      "    accuracy                           0.80     16503\n",
      "   macro avg       0.81      0.80      0.80     16503\n",
      "weighted avg       0.81      0.80      0.80     16503\n",
      "\n",
      "[[7349  976]\n",
      " [2275 5903]]\n",
      "accuracy score:  80.30055141489426 %\n",
      "False-Negative-Rate:  27.818537539740767 %\n",
      "true-positive-rate:  72.18146246025923 %\n"
     ]
    },
    {
     "data": {
      "image/png": "[encoded data removed]",
      "text/plain": [
       "<Figure size 432x288 with 1 Axes>"
      ]
     },
     "metadata": {
      "needs_background": "light"
     },
     "output_type": "display_data"
    }
   ],
   "source": [
    "from keras import models\n",
    "from keras import layers\n",
    "\n",
    "def build_model():\n",
    "    model = models.Sequential()\n",
    "    model.add(layers.Dense(64, activation='sigmoid', input_shape=(X_train.shape[1],)))\n",
    "    model.add(layers.Dense(64, activation='sigmoid'))\n",
    "    model.add(layers.Dense(1, activation='sigmoid')) # because of multi-class labels\n",
    "    # defining the optimizer and loss and accuracy parameters\n",
    "    model.compile(optimizer='rmsprop',loss='binary_crossentropy',metrics=['accuracy'])\n",
    "    return model\n",
    "\n",
    "# testing how the individual model with sampLe parameters scores on test data\n",
    "X_train_os2, x_val, y_train_os2, y_val = train_test_split(X_train.astype('float32'),y_train.astype('int32'),train_size=0.7)\n",
    "print (X_train_os2.shape, y_train_os2.shape)\n",
    "print (x_val.shape,y_val.shape)\n",
    "model = build_model()\n",
    "history = model.fit(X_train_os2, y_train_os2, batch_size=32, epochs=10, validation_data=(x_val, y_val))\n",
    "\n",
    "X_test = X_test.astype('float32')\n",
    "DL_preds = model.predict_proba(X_test)\n",
    "print (DL_preds.shape)\n",
    "test_results = model.evaluate(X_test,y_test)\n",
    "for i in range(len(test_results)):\n",
    "    print (model.metrics_names[i],': ',test_results[i])\n",
    "\n",
    "DL_preds2 = [round(i[0]) for i in DL_preds]\n",
    "\n",
    "\n",
    "import matplotlib.pyplot as plt\n",
    "loss = history.history['loss']\n",
    "val_loss = history.history['val_loss']\n",
    "epochs = range(1, len(loss) + 1)\n",
    "plt.plot(epochs, loss, 'bo', label='Training loss')\n",
    "plt.plot(epochs, val_loss, 'b', label='Validation loss')\n",
    "plt.title('Training and validation loss')\n",
    "plt.xlabel('Epochs')\n",
    "plt.ylabel('Loss')\n",
    "plt.legend()\n",
    "plt.show()\n",
    "\n",
    "DL_fpr, DL_tpr, DL_thresholds = roc_curve(y_test, DL_preds)\n",
    "DL_score = roc_auc_score(y_test, DL_preds)\n",
    "error_metric(y_test,np.array(DL_preds2))\n",
    "plotRocAuc(DL_fpr, DL_tpr, DL_thresholds, DL_score)"
   ]
  },
  {
   "cell_type": "markdown",
   "metadata": {},
   "source": [
    "## CONCLUSION"
   ]
  },
  {
   "cell_type": "markdown",
   "metadata": {},
   "source": [
    "Looking at all the models applied above and comparing their classification metrics,<br> XGBoost classifier seems a good classifier for this classification problem with 26% FNR and 80% accuracy score."
   ]
  }
 ],
 "metadata": {
  "kernelspec": {
   "display_name": "Python 3",
   "language": "python",
   "name": "python3"
  },
  "language_info": {
   "codemirror_mode": {
    "name": "ipython",
    "version": 3
   },
   "file_extension": ".py",
   "mimetype": "text/x-python",
   "name": "python",
   "nbconvert_exporter": "python",
   "pygments_lexer": "ipython3",
   "version": "3.7.2"
  }
 },
 "nbformat": 4,
 "nbformat_minor": 2
}
